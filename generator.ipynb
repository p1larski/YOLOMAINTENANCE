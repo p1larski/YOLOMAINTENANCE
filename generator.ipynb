{
 "cells": [
  {
   "cell_type": "markdown",
   "metadata": {},
   "source": [
    "# Generator danych"
   ]
  },
  {
   "cell_type": "code",
   "execution_count": 1,
   "metadata": {},
   "outputs": [
    {
     "name": "stdout",
     "output_type": "stream",
     "text": [
      "csv jest już zainstalowany.\n",
      "random jest już zainstalowany.\n",
      "numpy jest już zainstalowany.\n"
     ]
    }
   ],
   "source": [
    "import subprocess\n",
    "import sys\n",
    "\n",
    "packages = [\"csv\", \"random\", \"numpy\"]\n",
    "\n",
    "for package in packages:\n",
    "    try:\n",
    "        __import__(package)\n",
    "        print(f\"{package} jest już zainstalowany.\")\n",
    "    except ImportError:\n",
    "        print(f\"{package} nie jest zainstalowany. Instalowanie...\")\n",
    "        subprocess.check_call([sys.executable, \"-m\", \"pip\", \"install\", package])"
   ]
  },
  {
   "cell_type": "markdown",
   "metadata": {},
   "source": [
    "Importy"
   ]
  },
  {
   "cell_type": "code",
   "execution_count": 2,
   "metadata": {},
   "outputs": [],
   "source": [
    "import csv\n",
    "import random\n",
    "import numpy as np\n",
    "import os"
   ]
  },
  {
   "cell_type": "markdown",
   "metadata": {},
   "source": [
    "# Zmienna cycles na początku programu"
   ]
  },
  {
   "cell_type": "code",
   "execution_count": 3,
   "metadata": {},
   "outputs": [],
   "source": [
    "cycles = 5000  # Liczba cykli do wygenerowania"
   ]
  },
  {
   "cell_type": "markdown",
   "metadata": {},
   "source": [
    "# Funkcja symulujące odchylenia w pracy wtryskarki"
   ]
  },
  {
   "cell_type": "code",
   "execution_count": 4,
   "metadata": {},
   "outputs": [],
   "source": [
    "def simulate_injection_molding_cycle(cycle_id):\n",
    "    welding_time = np.random.normal(5, 0.5)  # Czas zgrzewania (sekundy)\n",
    "    pressure = np.random.normal(100, 10)  # Ciśnienie (jednostki umowne)\n",
    "    energy = np.random.normal(50, 5)  # Zużyta energia (jednostki umowne)\n",
    "    temperature = np.random.normal(200, 10)  # Temperatura (°C)\n",
    "    ultrasonic_power = np.random.normal(90, 5)  # Moc ultradźwięków (jednostki umowne)\n",
    "    humidity = np.random.normal(45, 5)  # Wilgotność otoczenia (%)\n",
    "    vibration = np.random.normal(0.02, 0.005)  # Wibracje maszyny (jednostki umowne)\n",
    "    cycle_time = np.random.normal(12, 1)  # Czas pełnego cyklu (sekundy)\n",
    "    operating_pressure = np.random.normal(120, 8)  # Ciśnienie robocze (jednostki umowne)\n",
    "    \n",
    "    # Dodatkowe parametry wtryskarki\n",
    "    form_closing_time = np.random.normal(2.0, 0.2)  # Czas zamknięcia formy (sekundy)\n",
    "    form_closing_force = np.random.normal(500, 20)  # Siła zamknięcia formy (jednostki umowne)\n",
    "    material_flow_rate = np.random.normal(10, 1)  # Przepływ materiału (jednostki umowne)\n",
    "    tool_wear = np.random.normal(0.5, 0.1)  # Zużycie narzędzi (procenty)\n",
    "    maintenance_status = np.random.choice([\"1\", \"0\"], p=[0.95, 0.05])\n",
    "    power_consumption = np.random.normal(100, 10)  # Pobór mocy (kW)\n",
    "    voltage_fluctuation = np.random.normal(230, 5)  # Wahania napięcia (V)\n",
    "    \n",
    "    flatness = 'flat' if welding_time < 6 and temperature < 210 else 'not flat'\n",
    "    \n",
    "    if random.random() < 0.05:  # 5% szansa na problem techniczny\n",
    "        pressure *= 0.8\n",
    "        flatness = 'not flat'\n",
    "    \n",
    "    return {\n",
    "        \"Cycle ID\": cycle_id,\n",
    "        \"Welding Time\": welding_time,\n",
    "        \"Pressure\": pressure,\n",
    "        \"Energy\": energy,\n",
    "        \"Temperature\": temperature,\n",
    "        \"Ultrasonic Power\": ultrasonic_power,\n",
    "        \"Humidity\": humidity,\n",
    "        \"Vibration\": vibration,\n",
    "        \"Cycle Time\": cycle_time,\n",
    "        \"Operating Pressure\": operating_pressure,\n",
    "        \"Flatness\": flatness,\n",
    "        \"Form Closing Time\": form_closing_time,\n",
    "        \"Form Closing Force\": form_closing_force,\n",
    "        \"Material Flow Rate\": material_flow_rate,\n",
    "        \"Tool Wear\": tool_wear,\n",
    "        \"Maintenance Status\": maintenance_status,\n",
    "        \"Power Consumption\": power_consumption,\n",
    "        \"Voltage Fluctuation\": voltage_fluctuation\n",
    "    }"
   ]
  },
  {
   "cell_type": "markdown",
   "metadata": {},
   "source": [
    "# Funkcje symulujące pracę robota"
   ]
  },
  {
   "cell_type": "code",
   "execution_count": 5,
   "metadata": {},
   "outputs": [],
   "source": [
    "def simulate_robot_operation(cycle_id, flatness):\n",
    "    suction_power = np.random.normal(80, 5)\n",
    "    positioning_error = np.random.normal(0, 0.02)\n",
    "    vacuum_pressure = np.random.normal(95, 5)\n",
    "    speed = np.random.normal(2.5, 0.2)\n",
    "    tilt_angle = np.random.normal(0, 0.5)\n",
    "    suction_force = np.random.normal(85, 4)\n",
    "    operation_time = np.random.normal(3.5, 0.3)\n",
    "    robot_vibration = np.random.normal(0.015, 0.003)\n",
    "    robot_temperature = np.random.normal(25, 2)\n",
    "    \n",
    "    suction_system_health = np.random.choice([\"1\", \"0\"], p=[0.97, 0.03])\n",
    "    robot_battery_level = np.random.normal(90, 5)\n",
    "    robot_arm_torque = np.random.normal(50, 5)\n",
    "    robot_joint_wear = np.random.normal(0.1, 0.02)\n",
    "    \n",
    "    will_fall = False\n",
    "    if flatness == 'not flat' or suction_power < 75 or positioning_error > 0.03 or tilt_angle > 5:\n",
    "        will_fall = True\n",
    "    \n",
    "    if random.random() < 0.02:\n",
    "        will_fall = True\n",
    "    \n",
    "    return {\n",
    "        \"Cycle ID\": cycle_id,\n",
    "        \"Suction Power\": suction_power,\n",
    "        \"Positioning Error\": positioning_error,\n",
    "        \"Vacuum Pressure\": vacuum_pressure,\n",
    "        \"Speed\": speed,\n",
    "        \"Tilt Angle\": tilt_angle,\n",
    "        \"Suction Force\": suction_force,\n",
    "        \"Operation Time\": operation_time,\n",
    "        \"Robot Vibration\": robot_vibration,\n",
    "        \"Robot Temperature\": robot_temperature,\n",
    "        \"Element Dropped\": will_fall,\n",
    "        \"Suction System Health\": suction_system_health,\n",
    "        \"Robot Battery Level\": robot_battery_level,\n",
    "        \"Robot Arm Torque\": robot_arm_torque,\n",
    "        \"Robot Joint Wear\": robot_joint_wear\n",
    "    }"
   ]
  },
  {
   "cell_type": "markdown",
   "metadata": {},
   "source": [
    "\n",
    "# Funkcja do symulacji cykli produkcyjnych i zapisu do dwóch oddzielnych plików CSV"
   ]
  },
  {
   "cell_type": "code",
   "execution_count": 6,
   "metadata": {},
   "outputs": [],
   "source": [
    "# Funkcja do symulacji cykli produkcyjnych i zapisu do dwóch oddzielnych plików CSV\n",
    "def simulate_production_cycles(num_cycles, output_injection_file, output_robot_file):\n",
    "    # Tworzenie katalogu, jeśli nie istnieje\n",
    "    os.makedirs(os.path.dirname(output_injection_file), exist_ok=True)\n",
    "    \n",
    "    with open(output_injection_file, mode='w', newline='') as injection_file, \\\n",
    "         open(output_robot_file, mode='w', newline='') as robot_file:\n",
    "        \n",
    "        injection_writer = csv.DictWriter(injection_file, fieldnames=[\n",
    "            \"Cycle ID\", \"Welding Time\", \"Pressure\", \"Energy\", \"Temperature\", \"Ultrasonic Power\", \n",
    "            \"Humidity\", \"Vibration\", \"Cycle Time\", \"Operating Pressure\", \"Flatness\",\n",
    "            \"Form Closing Time\", \"Form Closing Force\", \"Material Flow Rate\", \"Tool Wear\", \n",
    "            \"Maintenance Status\", \"Power Consumption\", \"Voltage Fluctuation\"\n",
    "        ])\n",
    "        injection_writer.writeheader()\n",
    "\n",
    "        robot_writer = csv.DictWriter(robot_file, fieldnames=[\n",
    "            \"Cycle ID\", \"Suction Power\", \"Positioning Error\", \"Vacuum Pressure\", \"Speed\", \n",
    "            \"Tilt Angle\", \"Suction Force\", \"Operation Time\", \"Robot Vibration\", \"Robot Temperature\", \n",
    "            \"Element Dropped\", \"Suction System Health\", \"Robot Battery Level\", \"Robot Arm Torque\", \n",
    "            \"Robot Joint Wear\"\n",
    "        ])\n",
    "        robot_writer.writeheader()\n",
    "        \n",
    "        for cycle_id in range(1, num_cycles + 1):\n",
    "            # Symulacja wtryskarki\n",
    "            injection_data = simulate_injection_molding_cycle(cycle_id)\n",
    "            injection_writer.writerow(injection_data)\n",
    "            \n",
    "            # Symulacja robota\n",
    "            robot_data = simulate_robot_operation(cycle_id, injection_data['Flatness'])\n",
    "            robot_writer.writerow(robot_data)\n",
    "\n",
    "            # Wyświetlanie postępu\n",
    "            progress = (cycle_id / num_cycles) * 100\n",
    "            print(f\"Progress: {progress:.2f}% - Cycle ID: {cycle_id}/{num_cycles}\", end=\"\\r\")\n",
    "\n",
    "    print(f\"\\nSymulacja zakończona. Dane zapisane do plików: {output_injection_file} oraz {output_robot_file}\")\n",
    "\n",
    "# Ustawienie ścieżki dla plików CSV\n",
    "output_dir = os.path.join(os.getcwd(), 'Data')\n",
    "injection_file_path = os.path.join(output_dir, \"injection_traceability.csv\")\n",
    "robot_file_path = os.path.join(output_dir, \"robot_traceability.csv\")"
   ]
  }
 ],
 "metadata": {
  "kernelspec": {
   "display_name": ".venv",
   "language": "python",
   "name": "python3"
  },
  "language_info": {
   "codemirror_mode": {
    "name": "ipython",
    "version": 3
   },
   "file_extension": ".py",
   "mimetype": "text/x-python",
   "name": "python",
   "nbconvert_exporter": "python",
   "pygments_lexer": "ipython3",
   "version": "3.12.7"
  }
 },
 "nbformat": 4,
 "nbformat_minor": 2
}
