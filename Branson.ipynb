{
 "cells": [
  {
   "cell_type": "markdown",
   "metadata": {},
   "source": [
    " # Instalacja potrzebnych bibliotek jak nie są zainstalowane. Rekomendowane użycie wirtualnego środowiska."
   ]
  },
  {
   "cell_type": "code",
   "execution_count": 48,
   "metadata": {},
   "outputs": [
    {
     "name": "stdout",
     "output_type": "stream",
     "text": [
      "pandas jest już zainstalowany.\n",
      "scikit-learn nie jest zainstalowany. Instalowanie...\n",
      "Requirement already satisfied: scikit-learn in ./.venv/lib/python3.12/site-packages (1.5.2)\n",
      "Requirement already satisfied: numpy>=1.19.5 in ./.venv/lib/python3.12/site-packages (from scikit-learn) (2.1.3)\n",
      "Requirement already satisfied: scipy>=1.6.0 in ./.venv/lib/python3.12/site-packages (from scikit-learn) (1.14.1)\n",
      "Requirement already satisfied: joblib>=1.2.0 in ./.venv/lib/python3.12/site-packages (from scikit-learn) (1.4.2)\n",
      "Requirement already satisfied: threadpoolctl>=3.1.0 in ./.venv/lib/python3.12/site-packages (from scikit-learn) (3.5.0)\n",
      "tqdm jest już zainstalowany.\n",
      "numpy jest już zainstalowany.\n"
     ]
    }
   ],
   "source": [
    "import subprocess\n",
    "import sys\n",
    "\n",
    "packages = [\"pandas\", \"scikit-learn\", \"tqdm\", \"numpy\"]\n",
    "\n",
    "for package in packages:\n",
    "    try:\n",
    "        __import__(package)\n",
    "        print(f\"{package} jest już zainstalowany.\")\n",
    "    except ImportError:\n",
    "        print(f\"{package} nie jest zainstalowany. Instalowanie...\")\n",
    "        subprocess.check_call([sys.executable, \"-m\", \"pip\", \"install\", package])"
   ]
  },
  {
   "cell_type": "markdown",
   "metadata": {},
   "source": [
    " # Import potrzebnych bibliotek"
   ]
  },
  {
   "cell_type": "code",
   "execution_count": 49,
   "metadata": {},
   "outputs": [],
   "source": [
    "import os\n",
    "import pandas as pd\n",
    "import pickle\n",
    "from sklearn.model_selection import train_test_split\n",
    "from sklearn.ensemble import RandomForestClassifier\n",
    "from sklearn.metrics import classification_report\n",
    "from tqdm import tqdm  # Dodajemy tqdm do monitorowania postępu\n",
    "import numpy as np"
   ]
  },
  {
   "cell_type": "markdown",
   "metadata": {},
   "source": [
    " # Ustawianie ścieżek plików"
   ]
  },
  {
   "cell_type": "code",
   "execution_count": 50,
   "metadata": {},
   "outputs": [],
   "source": [
    "current_dir = os.getcwd()\n",
    "model_path = os.path.join(current_dir, 'Model/BRANSON.model')\n",
    "data_path = os.path.join(current_dir, 'Data')\n",
    "test_data_path = os.path.join(current_dir, 'TestData')"
   ]
  },
  {
   "cell_type": "markdown",
   "metadata": {},
   "source": [
    " # Parametry modelu:\n",
    "- n_estimators - Liczba drzew w Random Forest\n",
    "- test_size - Procent danych do testowania\n",
    "- random_state - Dla powtarzalności wyników"
   ]
  },
  {
   "cell_type": "code",
   "execution_count": 51,
   "metadata": {},
   "outputs": [],
   "source": [
    "n_estimators = 100\n",
    "test_size = 0.3\n",
    "random_state = 42"
   ]
  },
  {
   "cell_type": "markdown",
   "metadata": {},
   "source": [
    " # Tworzenie tabeli x,y"
   ]
  },
  {
   "cell_type": "code",
   "execution_count": 52,
   "metadata": {},
   "outputs": [],
   "source": [
    "X = np.arange(5000)\n",
    "y = np.arange(5000)"
   ]
  },
  {
   "cell_type": "markdown",
   "metadata": {},
   "source": [
    " # Sprawdzenie, czy istnieje zapisany model"
   ]
  },
  {
   "cell_type": "code",
   "execution_count": 53,
   "metadata": {},
   "outputs": [],
   "source": [
    "model_exists = os.path.exists(model_path)"
   ]
  },
  {
   "cell_type": "markdown",
   "metadata": {},
   "source": [
    " # Funkcja do wyświetlania menu z kolorowaniem tekstu"
   ]
  },
  {
   "cell_type": "code",
   "execution_count": 54,
   "metadata": {},
   "outputs": [],
   "source": [
    "def display_menu():\n",
    "    print(\"\\nWybierz akcję:\")\n",
    "    print(\"a) Generuj nowy model\")\n",
    "    if model_exists:\n",
    "        print(\"\\033[92mb) Doucz istniejący model\\033[0m\")  # Zielony tekst\n",
    "        print(\"\\033[92mc) Użyj istniejącego modelu do analizy wyników\\033[0m\")  # Zielony tekst\n",
    "    else:\n",
    "        print(\"\\033[90mb) Doucz istniejący model (niedostępne, brak modelu)\\033[0m\")  # Szary tekst\n",
    "        print(\"\\033[90mc) Użyj istniejącego modelu do analizy wyników (niedostępne, brak modelu)\\033[0m\")  # Szary tekst"
   ]
  },
  {
   "cell_type": "markdown",
   "metadata": {},
   "source": [
    " # Funkcja do sprawdzania unikalnych wartości w kolumnach"
   ]
  },
  {
   "cell_type": "code",
   "execution_count": 55,
   "metadata": {},
   "outputs": [],
   "source": [
    "def check_column_types(data):\n",
    "    for column in data.columns:\n",
    "        unique_values = data[column].unique()\n",
    "        print(f\"Kolumna: {column}, Unikalne wartości: {unique_values}\")"
   ]
  },
  {
   "cell_type": "markdown",
   "metadata": {},
   "source": [
    " # Funkcja do konwersji wartości tekstowych na liczby"
   ]
  },
  {
   "cell_type": "code",
   "execution_count": 56,
   "metadata": {},
   "outputs": [],
   "source": [
    "def convert_values_to_numeric(data):\n",
    "    for column in data.columns:\n",
    "        if data[column].dtype == 'object':\n",
    "            print(f\"Konwertuję wartości w kolumnie: {column}\")\n",
    "            unique_values = data[column].unique()\n",
    "            print(f\"Unikalne wartości: {unique_values}\")\n",
    "            # Konwersja na liczby dla każdej kolumny z danymi tekstowymi\n",
    "            data[column] = data[column].apply(lambda x: 1 if x in ['OK', 'flat'] else \n",
    "                                                (0 if x in ['not flat', 'Leak Detected', 'Maintenance Needed'] else x))\n",
    "    return data"
   ]
  },
  {
   "cell_type": "markdown",
   "metadata": {},
   "source": [
    "# Funkcja do generowania nowego modelu"
   ]
  },
  {
   "cell_type": "code",
   "execution_count": 57,
   "metadata": {},
   "outputs": [],
   "source": [
    "def generate_new_model():\n",
    "    print(\"\\nGenerowanie nowego modelu...\\n\")\n",
    "    \n",
    "    # Załaduj dane z plików CSV\n",
    "    print(\"Ładowanie danych...\")\n",
    "    injection_data = pd.read_csv(os.path.join(data_path, 'injection_traceability.csv'))\n",
    "    robot_data = pd.read_csv(os.path.join(data_path, 'robot_traceability.csv'))\n",
    "\n",
    "    # Sprawdź kolumny robot_data i wyświetl unikalne wartości\n",
    "    check_column_types(robot_data)\n",
    "\n",
    "    # Konwersja wartości tekstowych na liczby\n",
    "    print(\"Konwersja danych na liczby...\")\n",
    "    robot_data = convert_values_to_numeric(robot_data)\n",
    "    injection_data = convert_values_to_numeric(injection_data)\n",
    "\n",
    "    # Połączenie danych z wtryskarki i robota na podstawie Cycle ID\n",
    "    print(\"Łączenie danych z wtryskarki i robota...\")\n",
    "    data = pd.merge(injection_data, robot_data, on=\"Cycle ID\")\n",
    "\n",
    "    # Przygotowanie zmiennych X (cechy) i y (target - czy element upadł)\n",
    "    X = data.drop(columns=[\"Cycle ID\", \"Element Dropped\"])  # Wszystkie kolumny poza Cycle ID i targetem\n",
    "    y = data[\"Element Dropped\"]  # Target - czy element upadł (True/False)\n",
    "\n",
    "    # Podział na dane treningowe i testowe\n",
    "    print(\"Podział na dane treningowe i testowe...\")\n",
    "    X_train, X_test, y_train, y_test = train_test_split(X, y, test_size=test_size, random_state=random_state)\n",
    "\n",
    "    # Stworzenie modelu Random Forest z włączoną wielowątkowością (n_jobs=-1)\n",
    "    print(\"Tworzenie modelu Random Forest...\")\n",
    "    model = RandomForestClassifier(n_estimators=n_estimators, random_state=random_state, n_jobs=-1)\n",
    "\n",
    "    # Trenowanie modelu z monitorowaniem postępu\n",
    "    print(\"Rozpoczęcie trenowania modelu...\")\n",
    "    for i in tqdm(range(n_estimators)):\n",
    "        model.fit(X_train, y_train)\n",
    "\n",
    "    # Zapis modelu do pliku\n",
    "    print(\"Zapis modelu do pliku...\")\n",
    "    with open(model_path, 'wb') as file:\n",
    "        pickle.dump(model, file)\n",
    "    \n",
    "    print(\"Nowy model został wygenerowany i zapisany jako 'BRANSON_AI_MODEL'.\")\n",
    "    print(\"Raport z klasyfikacji dla danych testowych:\\n\")\n",
    "    y_pred = model.predict(X_test)\n",
    "    print(classification_report(y_test, y_pred))"
   ]
  },
  {
   "cell_type": "markdown",
   "metadata": {},
   "source": [
    "# Funkcja do douczania istniejącego modelu"
   ]
  },
  {
   "cell_type": "code",
   "execution_count": 58,
   "metadata": {},
   "outputs": [],
   "source": [
    "def retrain_existing_model():\n",
    "    print(\"\\nDouczanie istniejącego modelu...\\n\")\n",
    "    \n",
    "    # Załaduj dane z plików CSV\n",
    "    injection_data = pd.read_csv(os.path.join(data_path, 'injection_traceability.csv'))\n",
    "    robot_data = pd.read_csv(os.path.join(data_path, 'robot_traceability.csv'))\n",
    "\n",
    "    # Konwersja wartości tekstowych na liczby\n",
    "    robot_data = convert_values_to_numeric(robot_data)\n",
    "    injection_data = convert_values_to_numeric(injection_data)  # Konwersja także dla wtryskarki\n",
    "\n",
    "    # Połączenie danych z wtryskarki i robota na podstawie Cycle ID\n",
    "    data = pd.merge(injection_data, robot_data, on=\"Cycle ID\")\n",
    "\n",
    "    # Przygotowanie zmiennych X (cechy) i y (target - czy element upadł)\n",
    "    X = data.drop(columns=[\"Cycle ID\", \"Element Dropped\"])  # Wszystkie kolumny poza Cycle ID i targetem\n",
    "    y = data[\"Element Dropped\"]  # Target - czy element upadł (True/False)\n",
    "\n",
    "    # Podział na dane treningowe i testowe\n",
    "    # X_train, X_test, y_train, y_test = train_test_split(X, y, test_size=test_size, random_state=random_state) - nie używamy tego!!!\n",
    "\n",
    "    split_index = int(0.2 * len(X))\n",
    "\n",
    "    # podział danych\n",
    "\n",
    "    X_train, X_test = X[:split_index], X[split_index:]\n",
    "    y_train, y_test = y[:split_index], y[split_index:]\n",
    "\n",
    "    # Załaduj istniejący model\n",
    "    with open(model_path, 'rb') as file:\n",
    "        model = pickle.load(file)\n",
    "\n",
    "    # Dalsze trenowanie modelu\n",
    "    model.fit(X_train, y_train)\n",
    "\n",
    "    # Nadpisanie istniejącego modelu\n",
    "    with open(model_path, 'wb') as file:\n",
    "        pickle.dump(model, file)\n",
    "    \n",
    "    print(\"Model został douczony i zapisany ponownie.\")\n",
    "    print(\"Raport z klasyfikacji dla danych testowych:\\n\")\n",
    "    y_pred = model.predict(X_test)\n",
    "    print(classification_report(y_test, y_pred))"
   ]
  },
  {
   "cell_type": "markdown",
   "metadata": {},
   "source": [
    "# Funkcja do używania istniejącego modelu do analizy nowych danych"
   ]
  },
  {
   "cell_type": "code",
   "execution_count": 59,
   "metadata": {},
   "outputs": [],
   "source": [
    "def use_existing_model():\n",
    "    print(\"\\nUżywanie istniejącego modelu do analizy wyników...\\n\")\n",
    "\n",
    "    # Załaduj dane testowe (np. nowe dane z testów produkcji)\n",
    "    test_data = pd.read_csv(os.path.join(test_data_path, 'test_data.csv'))\n",
    "\n",
    "    # Załaduj istniejący model\n",
    "    with open(model_path, 'rb') as file:\n",
    "        model = pickle.load(file)\n",
    "\n",
    "    # Przewidywanie na danych testowych\n",
    "    X_test = test_data.drop(columns=[\"Cycle ID\", \"Element Dropped\"])  # Wszystkie kolumny poza Cycle ID i targetem\n",
    "    y_test = test_data[\"Element Dropped\"]  # Target - czy element upadł (True/False)\n",
    "\n",
    "    y_pred = model.predict(X_test)\n",
    "\n",
    "    # Wyświetlanie raportu z klasyfikacji\n",
    "    print(\"Raport z klasyfikacji dla nowych danych:\\n\")\n",
    "    print(classification_report(y_test, y_pred))"
   ]
  },
  {
   "cell_type": "markdown",
   "metadata": {},
   "source": [
    "# Wyświetlenie menu\n",
    "a) Generuj nowy model\n",
    "\n",
    "b) Doucz istniejący model (niedostępne, brak modelu)\n",
    "\n",
    "c) Użyj istniejącego modelu do analizy wyników (niedostępne, brak modelu)"
   ]
  },
  {
   "cell_type": "code",
   "execution_count": 60,
   "metadata": {},
   "outputs": [
    {
     "name": "stdout",
     "output_type": "stream",
     "text": [
      "\n",
      "Wybierz akcję:\n",
      "a) Generuj nowy model\n",
      "\u001b[90mb) Doucz istniejący model (niedostępne, brak modelu)\u001b[0m\n",
      "\u001b[90mc) Użyj istniejącego modelu do analizy wyników (niedostępne, brak modelu)\u001b[0m\n",
      "\n",
      "Generowanie nowego modelu...\n",
      "\n",
      "Ładowanie danych...\n",
      "Kolumna: Cycle ID, Unikalne wartości: [    1     2     3 ... 19998 19999 20000]\n",
      "Kolumna: Suction Power, Unikalne wartości: [78.70874056 85.03580208 73.51615297 ... 84.71737665 74.5475385\n",
      " 81.23827799]\n",
      "Kolumna: Positioning Error, Unikalne wartości: [ 0.00963573  0.007319   -0.04213619 ...  0.03415695 -0.00121158\n",
      " -0.00793526]\n",
      "Kolumna: Vacuum Pressure, Unikalne wartości: [97.90518417 90.9188059  95.69204835 ... 87.81796798 92.55350259\n",
      " 97.95315697]\n",
      "Kolumna: Speed, Unikalne wartości: [2.56982101 2.60551191 2.43373355 ... 2.44616698 2.32317105 2.82291761]\n",
      "Kolumna: Tilt Angle, Unikalne wartości: [-0.52443661 -0.47441019 -0.2985445  ... -0.9186953   0.32664896\n",
      " -0.49569715]\n",
      "Kolumna: Suction Force, Unikalne wartości: [74.31854381 83.48102116 84.82523999 ... 84.06032228 83.33495628\n",
      " 89.08876493]\n",
      "Kolumna: Operation Time, Unikalne wartości: [3.51601006 3.12392361 3.64383734 ... 3.51496295 3.84766375 3.47713781]\n",
      "Kolumna: Robot Vibration, Unikalne wartości: [0.02579811 0.01545144 0.01555283 ... 0.01610635 0.01113148 0.01623612]\n",
      "Kolumna: Robot Temperature, Unikalne wartości: [28.0230494  26.10349661 23.47660691 ... 27.00671983 30.40480915\n",
      " 25.33871245]\n",
      "Kolumna: Element Dropped, Unikalne wartości: [False  True]\n",
      "Kolumna: Suction System Health, Unikalne wartości: [1 0]\n",
      "Kolumna: Robot Battery Level, Unikalne wartości: [ 84.05266551  88.6579282  100.54716369 ...  86.14869522  88.73564793\n",
      "  93.35028677]\n",
      "Kolumna: Robot Arm Torque, Unikalne wartości: [52.34843142 53.2036426  41.80354618 ... 49.18134485 49.22287382\n",
      " 55.75521719]\n",
      "Kolumna: Robot Joint Wear, Unikalne wartości: [0.1035087  0.092921   0.12674264 ... 0.14033926 0.14284274 0.10214922]\n",
      "Konwersja danych na liczby...\n",
      "Konwertuję wartości w kolumnie: Flatness\n",
      "Unikalne wartości: ['flat' 'not flat']\n",
      "Łączenie danych z wtryskarki i robota...\n",
      "Podział na dane treningowe i testowe...\n",
      "Tworzenie modelu Random Forest...\n",
      "Rozpoczęcie trenowania modelu...\n"
     ]
    },
    {
     "name": "stderr",
     "output_type": "stream",
     "text": [
      "100%|██████████| 100/100 [04:02<00:00,  2.43s/it]"
     ]
    },
    {
     "name": "stdout",
     "output_type": "stream",
     "text": [
      "Zapis modelu do pliku...\n",
      "Nowy model został wygenerowany i zapisany jako 'BRANSON_AI_MODEL'.\n",
      "Raport z klasyfikacji dla danych testowych:\n",
      "\n",
      "              precision    recall  f1-score   support\n",
      "\n",
      "       False       0.98      1.00      0.99      3651\n",
      "        True       1.00      0.97      0.98      2349\n",
      "\n",
      "    accuracy                           0.99      6000\n",
      "   macro avg       0.99      0.98      0.99      6000\n",
      "weighted avg       0.99      0.99      0.99      6000\n",
      "\n"
     ]
    },
    {
     "name": "stderr",
     "output_type": "stream",
     "text": [
      "\n"
     ]
    }
   ],
   "source": [
    "display_menu()\n",
    "\n",
    "# Wybór użytkownika\n",
    "choice = input(\"\\nWybierz opcję (a, b, c): \").lower()\n",
    "\n",
    "# Obsługa wyboru użytkownika\n",
    "if choice == 'a':\n",
    "    generate_new_model()\n",
    "elif choice == 'b':\n",
    "    if model_exists:\n",
    "        retrain_existing_model()\n",
    "    else:\n",
    "        print(\"\\nOpcja douczenia modelu jest niedostępna, ponieważ nie ma istniejącego modelu.\")\n",
    "elif choice == 'c':\n",
    "    if model_exists:\n",
    "        use_existing_model()\n",
    "    else:\n",
    "        print(\"\\nOpcja analizy modelu jest niedostępna, ponieważ nie ma istniejącego modelu.\")\n",
    "else:\n",
    "    print(\"\\nNieprawidłowy wybór. Proszę wybrać 'a', 'b' lub 'c'.\")"
   ]
  }
 ],
 "metadata": {
  "kernelspec": {
   "display_name": ".venv",
   "language": "python",
   "name": "python3"
  },
  "language_info": {
   "codemirror_mode": {
    "name": "ipython",
    "version": 3
   },
   "file_extension": ".py",
   "mimetype": "text/x-python",
   "name": "python",
   "nbconvert_exporter": "python",
   "pygments_lexer": "ipython3",
   "version": "3.12.7"
  }
 },
 "nbformat": 4,
 "nbformat_minor": 2
}
